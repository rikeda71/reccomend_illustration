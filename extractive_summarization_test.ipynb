{
 "cells": [
  {
   "cell_type": "code",
   "execution_count": 1,
   "metadata": {},
   "outputs": [
    {
     "name": "stdout",
     "output_type": "stream",
     "text": [
      "Collecting sumy\n",
      "\u001b[?25l  Downloading https://files.pythonhosted.org/packages/61/20/8abf92617ec80a2ebaec8dc1646a790fc9656a4a4377ddb9f0cc90bc9326/sumy-0.8.1-py2.py3-none-any.whl (83kB)\n",
      "\u001b[K     |████████████████████████████████| 92kB 1.6MB/s eta 0:00:01\n",
      "\u001b[?25hCollecting pycountry>=18.2.23 (from sumy)\n",
      "\u001b[?25l  Downloading https://files.pythonhosted.org/packages/16/b6/154fe93072051d8ce7bf197690957b6d0ac9a21d51c9a1d05bd7c6fdb16f/pycountry-19.8.18.tar.gz (10.0MB)\n",
      "\u001b[K     |████████████████████████████████| 10.0MB 2.2MB/s eta 0:00:01\n",
      "\u001b[?25hCollecting breadability>=0.1.20 (from sumy)\n",
      "  Downloading https://files.pythonhosted.org/packages/ad/2d/bb6c9b381e6b6a432aa2ffa8f4afdb2204f1ff97cfcc0766a5b7683fec43/breadability-0.1.20.tar.gz\n",
      "Collecting docopt<0.7,>=0.6.1 (from sumy)\n",
      "  Downloading https://files.pythonhosted.org/packages/a2/55/8f8cab2afd404cf578136ef2cc5dfb50baa1761b68c9da1fb1e4eed343c9/docopt-0.6.2.tar.gz\n",
      "Collecting nltk>=3.0.2 (from sumy)\n",
      "  Using cached https://files.pythonhosted.org/packages/92/75/ce35194d8e3022203cca0d2f896dbb88689f9b3fce8e9f9cff942913519d/nltk-3.5.zip\n",
      "Requirement already satisfied: requests>=2.7.0 in ./.venv/lib/python3.7/site-packages (from sumy) (2.24.0)\n",
      "Requirement already satisfied: chardet in ./.venv/lib/python3.7/site-packages (from breadability>=0.1.20->sumy) (3.0.4)\n",
      "Collecting lxml>=2.0 (from breadability>=0.1.20->sumy)\n",
      "\u001b[?25l  Downloading https://files.pythonhosted.org/packages/01/89/cb97f90a061106a526ff22358f186bad6d0505d0e02559aeabdd2f906f8e/lxml-4.5.1-cp37-cp37m-macosx_10_9_x86_64.whl (4.4MB)\n",
      "\u001b[K     |████████████████████████████████| 4.4MB 593kB/s eta 0:00:01\n",
      "\u001b[?25hRequirement already satisfied: click in ./.venv/lib/python3.7/site-packages (from nltk>=3.0.2->sumy) (7.1.2)\n",
      "Requirement already satisfied: joblib in ./.venv/lib/python3.7/site-packages (from nltk>=3.0.2->sumy) (0.15.1)\n",
      "Requirement already satisfied: regex in ./.venv/lib/python3.7/site-packages (from nltk>=3.0.2->sumy) (2020.6.8)\n",
      "Requirement already satisfied: tqdm in ./.venv/lib/python3.7/site-packages (from nltk>=3.0.2->sumy) (4.46.1)\n",
      "Requirement already satisfied: urllib3!=1.25.0,!=1.25.1,<1.26,>=1.21.1 in ./.venv/lib/python3.7/site-packages (from requests>=2.7.0->sumy) (1.25.9)\n",
      "Requirement already satisfied: certifi>=2017.4.17 in ./.venv/lib/python3.7/site-packages (from requests>=2.7.0->sumy) (2020.6.20)\n",
      "Requirement already satisfied: idna<3,>=2.5 in ./.venv/lib/python3.7/site-packages (from requests>=2.7.0->sumy) (2.9)\n",
      "Installing collected packages: pycountry, docopt, lxml, breadability, nltk, sumy\n",
      "  Running setup.py install for pycountry ... \u001b[?25ldone\n",
      "\u001b[?25h  Running setup.py install for docopt ... \u001b[?25ldone\n",
      "\u001b[?25h  Running setup.py install for breadability ... \u001b[?25ldone\n",
      "\u001b[?25h  Running setup.py install for nltk ... \u001b[?25ldone\n",
      "\u001b[?25hSuccessfully installed breadability-0.1.20 docopt-0.6.2 lxml-4.5.1 nltk-3.5 pycountry-19.8.18 sumy-0.8.1\n",
      "\u001b[33mWARNING: You are using pip version 19.2.3, however version 20.1.1 is available.\n",
      "You should consider upgrading via the 'pip install --upgrade pip' command.\u001b[0m\n"
     ]
    }
   ],
   "source": [
    "!pip install sumy"
   ]
  },
  {
   "cell_type": "code",
   "execution_count": 3,
   "metadata": {},
   "outputs": [],
   "source": [
    "import MeCab\n",
    "from sumy.parsers.plaintext import PlaintextParser\n",
    "from sumy.nlp.tokenizers import Tokenizer\n",
    "from sumy.summarizers.lex_rank import LexRankSummarizer"
   ]
  },
  {
   "cell_type": "markdown",
   "metadata": {},
   "source": [
    "# Configs"
   ]
  },
  {
   "cell_type": "code",
   "execution_count": 50,
   "metadata": {},
   "outputs": [],
   "source": [
    "def parse_sentences(sentences):\n",
    "    m = MeCab.Tagger('-Owakati')\n",
    "    return [m.parse(sentence).replace(' \\n', '') for sentence in sentences]"
   ]
  },
  {
   "cell_type": "code",
   "execution_count": 56,
   "metadata": {},
   "outputs": [
    {
     "name": "stdout",
     "output_type": "stream",
     "text": [
      "千葉県・市川市で無免許運転で事故を起こし、その場から逃走したとして20歳の男が逮捕された。\n",
      "男は9日にも首都高で法定速度を大幅に上回るスピードで走行したとして逮捕されていた。\n",
      "事故直後、車は炎上したが、警察は車内に残っていた所持品から並木容疑者を特定し24日に逮捕した。\n"
     ]
    }
   ],
   "source": [
    "base_corpus = ['千葉県・市川市で無免許運転で事故を起こし、その場から逃走したとして20歳の男が逮捕された。',\n",
    "          '男は9日にも首都高で法定速度を大幅に上回るスピードで走行したとして逮捕されていた。',\n",
    "          '千葉県・松戸市の並木優弥容疑者（20）は17日の午前0時半すぎ、無免許で車を運転し市川市内の国道で中央分離帯に衝突する事故を起こしたうえ、その場から逃走した疑いが持たれている。',\n",
    "          '事故直後、車は炎上したが、警察は車内に残っていた所持品から並木容疑者を特定し24日に逮捕した。',\n",
    "          '並木容疑者は首都高速で法定速度を大幅に上回る時速160キロで走行した疑いで今月9日、警視庁に逮捕され、その後、釈放されていた。この際、並木容疑者は運転免許取り消しとなっていた。',\n",
    "          '取り調べに対し「無免許だから逃げた」などと容疑を認めている。（ANNニュース）']\n",
    "corpus = parse_sentences(base_corpus)\n",
    "\n",
    "# 連結したcorpusを再度tinysegmenterでトークナイズさせる\n",
    "parser = PlaintextParser.from_string('\\n'.join(corpus), Tokenizer('japanese'))\n",
    "\n",
    "summarizer = LexRankSummarizer()\n",
    "summarizer.stop_words = [' ']\n",
    "\n",
    "# sentencres_countに要約後の文の数を指定します。\n",
    "summary = summarizer(document=parser.document, sentences_count=3)\n",
    "\n",
    "# 元の文を表示\n",
    "for sentence in summary:\n",
    "    print(base_corpus[corpus.index(sentence.__str__())])"
   ]
  },
  {
   "cell_type": "code",
   "execution_count": 55,
   "metadata": {},
   "outputs": [
    {
     "name": "stdout",
     "output_type": "stream",
     "text": [
      "罰則はないが、「スマホは立ち止まって操作するもの」との意識を市民に浸透させ、歩きスマホによる事故を防ぐ狙い。\n",
      "約12％が歩きスマホをしていたことが分かった。\n",
      "こうした結果を受け、6月1日に、条例案を市議会に提出した。\n"
     ]
    }
   ],
   "source": [
    "base_corpus = [\n",
    "    '神奈川県大和市議会で25日、スマートフォンを手にした「歩きスマホ」を防止する条例が可決、成立した。',\n",
    "    '罰則はないが、「スマホは立ち止まって操作するもの」との意識を市民に浸透させ、歩きスマホによる事故を防ぐ狙い。',\n",
    "    '施行は7月1日から。',\n",
    "    '市によると、全国初。',\n",
    "    '条例は市内の道路や公園など公共の場所でスマホを操作する場合、他者の通行を妨げずに立ち止まって行うことを規定している。',\n",
    "    '市は1月、小田急江ノ島線中央林間駅など2カ所で、通行人約6千人を対象に調査を実施。',\n",
    "    '約12％が歩きスマホをしていたことが分かった。',\n",
    "    'こうした結果を受け、6月1日に、条例案を市議会に提出した。'\n",
    "]\n",
    "corpus = parse_sentences(base_corpus)\n",
    "\n",
    "# 連結したcorpusを再度tinysegmenterでトークナイズさせる\n",
    "parser = PlaintextParser.from_string('\\n'.join(corpus), Tokenizer('japanese'))\n",
    "\n",
    "summarizer = LexRankSummarizer()\n",
    "summarizer.stop_words = [' ']\n",
    "\n",
    "# sentencres_countに要約後の文の数を指定します。\n",
    "summary = summarizer(document=parser.document, sentences_count=3)\n",
    "\n",
    "# 元の文を表示\n",
    "for sentence in summary:\n",
    "    print(base_corpus[corpus.index(sentence.__str__())])"
   ]
  },
  {
   "cell_type": "code",
   "execution_count": null,
   "metadata": {},
   "outputs": [],
   "source": []
  }
 ],
 "metadata": {
  "kernelspec": {
   "display_name": "Python 3",
   "language": "python",
   "name": "python3"
  },
  "language_info": {
   "codemirror_mode": {
    "name": "ipython",
    "version": 3
   },
   "file_extension": ".py",
   "mimetype": "text/x-python",
   "name": "python",
   "nbconvert_exporter": "python",
   "pygments_lexer": "ipython3",
   "version": "3.7.7"
  }
 },
 "nbformat": 4,
 "nbformat_minor": 4
}
