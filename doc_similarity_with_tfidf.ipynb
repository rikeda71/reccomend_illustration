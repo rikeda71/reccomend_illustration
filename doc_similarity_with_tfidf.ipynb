{
 "cells": [
  {
   "cell_type": "markdown",
   "metadata": {},
   "source": [
    "# TFIDFによる文書類似度推定"
   ]
  },
  {
   "cell_type": "code",
   "execution_count": 2,
   "metadata": {},
   "outputs": [],
   "source": [
    "import urllib\n",
    "import glob\n",
    "import re\n",
    "import os\n",
    "from typing import List, Tuple\n",
    "\n",
    "import MeCab\n",
    "import numpy as np\n",
    "from IPython.display import Image\n",
    "from sklearn.feature_extraction.text import TfidfVectorizer\n",
    "from sklearn.metrics.pairwise import cosine_similarity"
   ]
  },
  {
   "cell_type": "code",
   "execution_count": 3,
   "metadata": {},
   "outputs": [],
   "source": [
    "# configs\n",
    "CORPUS_PATH = 'corpus.txt'\n",
    "m = MeCab.Tagger(\"-Owakati\")  # TODO:わかち書きしているので、品詞指定で特徴語を抽出するようにする必要がありそう\n",
    "DATASET_PATH = '/Users/rikeda/Google ドライブ/Colab Notebooks/nikkei'\n",
    "ILLUST_YA_CSV_PATH = '/Users/rikeda/Downloads/hackday/illust.csv'"
   ]
  },
  {
   "cell_type": "markdown",
   "metadata": {},
   "source": [
    "### いらすとやの見出しの格納"
   ]
  },
  {
   "cell_type": "code",
   "execution_count": 4,
   "metadata": {},
   "outputs": [
    {
     "name": "stdout",
     "output_type": "stream",
     "text": [
      "[('お金 の 単位 の キャラクター （ 強い 円 ） \\n', 'https://4.bp.blogspot.com/-jN5C5Y4xN9s/V2zF20D4INI/AAAAAAAA8AQ/sVYu-ezC_3UKtX4n75AaHUqEskfQQnS7QCLcB/s150/money_character_strong_yen.png'), ('風邪 薬 の イラスト \\n', 'https://2.bp.blogspot.com/-57P4j4ba84E/VyNdckfKDVI/AAAAAAAA6No/00EjX61RCQwiFfvQjglB7M55X2xsO65MQCLcB/s400/medicine_kaze.png'), ('青い バラ の イラスト \\n', 'https://3.bp.blogspot.com/-D1ojODeU7lg/U0pS6kDirII/AAAAAAAAe_Y/LU00iN_kGs0/s400/rose_blue.png')]\n"
     ]
    }
   ],
   "source": [
    "# 試しにぐっちが集めたいらすとやの見出しを使ってみる\n",
    "import csv\n",
    "with open(ILLUST_YA_CSV_PATH, 'r') as f:\n",
    "    reader = csv.reader(f)\n",
    "    illusts = [(m.parse(row[1]), row[2]) for row in reader]\n",
    "print(illusts[:3])"
   ]
  },
  {
   "cell_type": "code",
   "execution_count": 5,
   "metadata": {},
   "outputs": [],
   "source": [
    "def replace_num_to_zero(text: str) -> str:\n",
    "    return re.sub(r'[0-9]+', '0', text)\n",
    "\n",
    "def format_text(content: List[str]) -> List[str]:\n",
    "    \"\"\"\n",
    "    TODO:わかち書きしているので、品詞指定で特徴語を抽出するようにする必要がありそう\n",
    "    \"\"\"\n",
    "    \n",
    "    while '\\n' in content:\n",
    "        content.remove('\\n')\n",
    "    while '' in content:\n",
    "        content.remove('')\n",
    "    # 記者名を削除\n",
    "    if content[-1][0] == '（':\n",
    "        content = content[:-1]\n",
    "    return ' '.join([m.parse(replace_num_to_zero(line.replace('\\n', ''))).strip() for line in content[1:]])"
   ]
  },
  {
   "cell_type": "markdown",
   "metadata": {},
   "source": [
    "## データセットの読み込み\n",
    "今回は、自分がクローリングしていた日経新聞の記事、135,639記事を使用"
   ]
  },
  {
   "cell_type": "code",
   "execution_count": 6,
   "metadata": {},
   "outputs": [],
   "source": [
    "corpus = []\n",
    "if os.path.exists(CORPUS_PATH):\n",
    "    with open(CORPUS_PATH, 'r') as f:\n",
    "        for line in f:\n",
    "            corpus.append(line)\n",
    "else:\n",
    "    for cpath in glob.glob(f'{DATASET_PATH}/*'):\n",
    "        for dpath in glob.glob(f'{cpath}/*'):\n",
    "            for text in glob.glob(f'{dpath}/*'):\n",
    "                with open(text, 'r') as f:\n",
    "                    lines = f.readlines()\n",
    "                    if len(lines) > 0:\n",
    "                        lines = format_text(lines)\n",
    "                        corpus.append(lines)\n",
    "    with open('corpus.txt', 'w') as f:\n",
    "        f.write(\"\\n\".join(corpus))"
   ]
  },
  {
   "cell_type": "code",
   "execution_count": 7,
   "metadata": {},
   "outputs": [
    {
     "data": {
      "text/plain": [
       "135639"
      ]
     },
     "execution_count": 7,
     "metadata": {},
     "output_type": "execute_result"
    }
   ],
   "source": [
    "len(corpus)"
   ]
  },
  {
   "cell_type": "markdown",
   "metadata": {},
   "source": [
    "## TF-IDFの実装"
   ]
  },
  {
   "cell_type": "code",
   "execution_count": 8,
   "metadata": {},
   "outputs": [],
   "source": [
    "# slothlib導入\n",
    "# ぐっちのコードを参照\n",
    "slothlib_path = 'http://svn.sourceforge.jp/svnroot/slothlib/CSharp/Version1/SlothLib/NLP/Filter/StopWord/word/Japanese.txt'\n",
    "slothlib_file = urllib.request.urlopen(slothlib_path)\n",
    "slothlib_stopwords = [line.decode(\"utf-8\").strip() for line in slothlib_file]\n",
    "slothlib_stopwords = [ss for ss in slothlib_stopwords if not ss==u'']\n",
    "slothlib_stopwords.extend([\"\", \"0\", \"は\", \"を\", \"と\", \"に\", \"へ\", \"が\", \"の\", \n",
    "                           \"へ\", \"と\", \"より\", \"から\", \"にて\", \"して\", \"ば\", \n",
    "                           \"とも\", \"ど\", \"ども\", \"が\", \"に\", \"を\", \"て\", \n",
    "                           \"して\", \"で\", \"ながら\", \"ものを\", \"すら\", \"し\", \n",
    "                           \"のみ\", \"ばかり\", \"など\", \"まで\", \"は\", \"も\", \n",
    "                           \"でも\", \"しか\", \"さえ\", \"こそ\", \"な\", \"に\", \n",
    "                           \"とも\", \"の\", \"か\", \"い\", \"た\", \"として\", \n",
    "                           \"や\", \"いる\", \"だ\", \"った\", \"さ\", \"れ\", \"とともに\", \"です\", \"にわたり\", \"か月\"])"
   ]
  },
  {
   "cell_type": "code",
   "execution_count": 37,
   "metadata": {},
   "outputs": [],
   "source": [
    "# TF-IDFの演算\n",
    "# TODO: analyzerをmecabのオブジェクトにすることで、vectorizerに分かち書き前のテキストを入れても成立するようになる\n",
    "vectorizer = TfidfVectorizer(use_idf=True, max_features=10000, analyzer='word', ngram_range=(1, 1), stop_words=slothlib_stopwords)\n",
    "vecs = vectorizer.fit_transform(corpus)"
   ]
  },
  {
   "cell_type": "code",
   "execution_count": 38,
   "metadata": {},
   "outputs": [],
   "source": [
    "sentence = \"最年少 で の 七 大 タイトル を 獲得 し た 芝野 虎 丸新 名人 （ 0 日 夜 、 静岡 県 熱海 市 ）\"\n",
    "sentence = \"ゾンビ 映画 の 巨匠 と いわ れる ジョージ ・ A ・ ロメ ロ 監督 によって ホラー 映画 として 発展 し た が 、 近年 は ドラマ や ミュージカル など 様々 な ジャンルで 、 多様 な ゾンビ が 描か れ て き た 。\"\n",
    "sentence = m.parse(\"東京都内で２５日、新型コロナウイルスの感染者が新たに４８人確認されたことがわかった。１日当たりの感染者は２４日（５５人）を下回ったが、直近１週間の平均は約３９人と高水準が続いている。\").replace(' \\n', '')\n",
    "a = vectorizer.transform([sentence])\n",
    "b = vectorizer.transform([illust[0] for illust in illusts])\n",
    "similarity = cosine_similarity(a, b)[0]\n",
    "top3_indices = np.argsort(similarity)[::-1][:3]"
   ]
  },
  {
   "cell_type": "code",
   "execution_count": 39,
   "metadata": {},
   "outputs": [
    {
     "name": "stdout",
     "output_type": "stream",
     "text": [
      "0.4273318628435663\n",
      "母子 感染 ・ 垂直 感染 の イラスト \n",
      "\n"
     ]
    },
    {
     "data": {
      "text/html": [
       "<img src=\"//2.bp.blogspot.com/-9AC5LnHmt4A/VRUQMud8vbI/AAAAAAAAsh4/5YJwzc-BSXk/s400/ninshin_boshi_kansen.png\"/>"
      ],
      "text/plain": [
       "<IPython.core.display.Image object>"
      ]
     },
     "execution_count": 39,
     "metadata": {},
     "output_type": "execute_result"
    }
   ],
   "source": [
    "# top-1\n",
    "print(similarity[top3_indices.tolist()[0]])\n",
    "print(illusts[top3_indices.tolist()[0]][0])\n",
    "Image(url =  illusts[top3_indices.tolist()[0]][1])"
   ]
  },
  {
   "cell_type": "code",
   "execution_count": 40,
   "metadata": {},
   "outputs": [
    {
     "name": "stdout",
     "output_type": "stream",
     "text": [
      "0.389017408642666\n",
      "地域 を またい だ 感染 拡大 の イラスト （ 感染 地域 から ） \n",
      "\n"
     ]
    },
    {
     "data": {
      "text/html": [
       "<img src=\"https://1.bp.blogspot.com/-3kVQSMX_s9s/Xr33FJS1ijI/AAAAAAABY64/1ZbIcCcKPv0jYqLQE-wFR8WCJhOvJJA_gCNcBGAsYHQ/s400/virus_kansen_chiiki_idou1.png\"/>"
      ],
      "text/plain": [
       "<IPython.core.display.Image object>"
      ]
     },
     "execution_count": 40,
     "metadata": {},
     "output_type": "execute_result"
    }
   ],
   "source": [
    "# top-2\n",
    "print(similarity[top3_indices.tolist()[1]])\n",
    "print(illusts[top3_indices.tolist()[1]][0])\n",
    "Image(url =  illusts[top3_indices.tolist()[1]][1])"
   ]
  },
  {
   "cell_type": "code",
   "execution_count": 41,
   "metadata": {},
   "outputs": [
    {
     "name": "stdout",
     "output_type": "stream",
     "text": [
      "0.36421959965615347\n",
      "蚊 が 媒介 する 感染 症 の イラスト \n",
      "\n"
     ]
    },
    {
     "data": {
      "text/html": [
       "<img src=\"https://1.bp.blogspot.com/-L-gGD9N0WEE/VAWkUi4sjsI/AAAAAAAAmD4/VrPAu1X4pNE/s550/ka_kansensyou.png\"/>"
      ],
      "text/plain": [
       "<IPython.core.display.Image object>"
      ]
     },
     "execution_count": 41,
     "metadata": {},
     "output_type": "execute_result"
    }
   ],
   "source": [
    "# top-3\n",
    "print(similarity[top3_indices.tolist()[2]])\n",
    "print(illusts[top3_indices.tolist()[2]][0])\n",
    "Image(url =  illusts[top3_indices.tolist()[2]][1])"
   ]
  },
  {
   "cell_type": "markdown",
   "metadata": {},
   "source": [
    "## 学習済みTF-IDFデータの保存"
   ]
  },
  {
   "cell_type": "code",
   "execution_count": 17,
   "metadata": {},
   "outputs": [],
   "source": [
    "import pickle\n",
    "with open('tfidf.pkl', 'wb') as f:\n",
    "    pickle.dump(vectorizer, f)"
   ]
  },
  {
   "cell_type": "code",
   "execution_count": 18,
   "metadata": {},
   "outputs": [
    {
     "data": {
      "text/plain": [
       "(1, 10000)"
      ]
     },
     "execution_count": 18,
     "metadata": {},
     "output_type": "execute_result"
    }
   ],
   "source": [
    "b.shape\n",
    "a.shape"
   ]
  },
  {
   "cell_type": "code",
   "execution_count": 32,
   "metadata": {},
   "outputs": [
    {
     "name": "stdout",
     "output_type": "stream",
     "text": [
      "0.4273318628435663\n",
      "母子 感染 ・ 垂直 感染 の イラスト \n",
      "\n"
     ]
    },
    {
     "data": {
      "text/html": [
       "<img src=\"//2.bp.blogspot.com/-9AC5LnHmt4A/VRUQMud8vbI/AAAAAAAAsh4/5YJwzc-BSXk/s400/ninshin_boshi_kansen.png\"/>"
      ],
      "text/plain": [
       "<IPython.core.display.Image object>"
      ]
     },
     "execution_count": 32,
     "metadata": {},
     "output_type": "execute_result"
    }
   ],
   "source": [
    "# 呼び出し方\n",
    "with open('tfidf.pkl', 'rb') as f:\n",
    "    tfidf_vectorizer = pickle.load(f)\n",
    "a = vectorizer.transform([sentence])\n",
    "b = vectorizer.transform([illust[0] for illust in illusts])\n",
    "similarity = cosine_similarity(a, b)[0]\n",
    "top3_indices = np.argsort(similarity)[::-1][:3]\n",
    "\n",
    "print(similarity[top3_indices.tolist()[0]])\n",
    "print(illusts[top3_indices.tolist()[0]][0])\n",
    "Image(url =  illusts[top3_indices.tolist()[0]][1])"
   ]
  },
  {
   "cell_type": "markdown",
   "metadata": {},
   "source": [
    "意味不明な結果にwww"
   ]
  },
  {
   "cell_type": "markdown",
   "metadata": {},
   "source": [
    "## 次元削減"
   ]
  },
  {
   "cell_type": "code",
   "execution_count": 33,
   "metadata": {},
   "outputs": [
    {
     "data": {
      "text/plain": [
       "array([[ 0.20057168,  0.04101422, -0.02305884, ..., -0.01248164,\n",
       "         0.01372317, -0.00641515],\n",
       "       [ 0.21492051,  0.20413429,  0.06769231, ...,  0.03865262,\n",
       "         0.01295171,  0.00026097],\n",
       "       [ 0.16801205,  0.15235989,  0.02243906, ..., -0.02759267,\n",
       "        -0.00453862,  0.01738552],\n",
       "       ...,\n",
       "       [ 0.20871139,  0.03475033, -0.05776242, ..., -0.00053156,\n",
       "         0.00123192,  0.01133208],\n",
       "       [ 0.0235006 , -0.0020007 , -0.01542956, ...,  0.01720896,\n",
       "        -0.00092372, -0.0133614 ],\n",
       "       [ 0.07169848, -0.00827597, -0.04076585, ...,  0.0033136 ,\n",
       "        -0.01909184, -0.00784076]])"
      ]
     },
     "execution_count": 33,
     "metadata": {},
     "output_type": "execute_result"
    }
   ],
   "source": [
    "from sklearn.decomposition import TruncatedSVD\n",
    "\n",
    "dim = 200\n",
    "lsa = TruncatedSVD(n_components=dim)\n",
    "lsa.fit_transform(vecs)"
   ]
  },
  {
   "cell_type": "code",
   "execution_count": 34,
   "metadata": {},
   "outputs": [
    {
     "name": "stdout",
     "output_type": "stream",
     "text": [
      "0.8505344413896647\n",
      "母子 感染 ・ 垂直 感染 の イラスト \n",
      "\n"
     ]
    },
    {
     "data": {
      "text/html": [
       "<img src=\"//2.bp.blogspot.com/-9AC5LnHmt4A/VRUQMud8vbI/AAAAAAAAsh4/5YJwzc-BSXk/s400/ninshin_boshi_kansen.png\"/>"
      ],
      "text/plain": [
       "<IPython.core.display.Image object>"
      ]
     },
     "execution_count": 34,
     "metadata": {},
     "output_type": "execute_result"
    }
   ],
   "source": [
    "# 性能変化の確認\n",
    "a = lsa.transform(a)\n",
    "b = lsa.transform(b)\n",
    "similarity = cosine_similarity(a, b)[0]\n",
    "top3_indices = np.argsort(similarity)[::-1][:3]\n",
    "\n",
    "print(similarity[top3_indices.tolist()[0]])\n",
    "print(illusts[top3_indices.tolist()[0]][0])\n",
    "Image(url =  illusts[top3_indices.tolist()[0]][1])"
   ]
  },
  {
   "cell_type": "code",
   "execution_count": 35,
   "metadata": {},
   "outputs": [
    {
     "name": "stdout",
     "output_type": "stream",
     "text": [
      "0.8405352122142054\n",
      "いろいろ な 感染 症 予防 の イラスト 文字 （ 動物 ・ て を あらお う ） \n",
      "\n"
     ]
    },
    {
     "data": {
      "text/html": [
       "<img src=\"https://1.bp.blogspot.com/-k5R3mu-ganE/XobLZ967BCI/AAAAAAABYBg/Oa5GbpiYOCsI4amjMT26uMo9-6O_0kbzQCNcBGAsYHQ/s200/kansen_yobou_animal1_tearai_h.png\"/>"
      ],
      "text/plain": [
       "<IPython.core.display.Image object>"
      ]
     },
     "execution_count": 35,
     "metadata": {},
     "output_type": "execute_result"
    }
   ],
   "source": [
    "print(similarity[top3_indices.tolist()[1]])\n",
    "print(illusts[top3_indices.tolist()[1]][0])\n",
    "Image(url =  illusts[top3_indices.tolist()[1]][1])"
   ]
  },
  {
   "cell_type": "code",
   "execution_count": 36,
   "metadata": {},
   "outputs": [
    {
     "name": "stdout",
     "output_type": "stream",
     "text": [
      "0.8239409631680794\n",
      "罠 に かかっ た イノシシ の イラスト \n",
      "\n"
     ]
    },
    {
     "data": {
      "text/html": [
       "<img src=\"https://3.bp.blogspot.com/-TnCCV-_CnCA/WMJLMA9dC-I/AAAAAAABCeg/5fGYCXQv8qUyThTTuli12PJNm_aQwCtiACLcB/s400/kukuri_wana_inoshishi.png\"/>"
      ],
      "text/plain": [
       "<IPython.core.display.Image object>"
      ]
     },
     "execution_count": 36,
     "metadata": {},
     "output_type": "execute_result"
    }
   ],
   "source": [
    "print(similarity[top3_indices.tolist()[2]])\n",
    "print(illusts[top3_indices.tolist()[2]][0])\n",
    "Image(url =  illusts[top3_indices.tolist()[2]][1])"
   ]
  },
  {
   "cell_type": "code",
   "execution_count": 22,
   "metadata": {},
   "outputs": [],
   "source": [
    "with open('lsa_for_tfidf.pkl', 'wb') as f:\n",
    "    pickle.dump(lsa, f)"
   ]
  },
  {
   "cell_type": "code",
   "execution_count": null,
   "metadata": {},
   "outputs": [],
   "source": []
  }
 ],
 "metadata": {
  "kernelspec": {
   "display_name": "Python 3",
   "language": "python",
   "name": "python3"
  },
  "language_info": {
   "codemirror_mode": {
    "name": "ipython",
    "version": 3
   },
   "file_extension": ".py",
   "mimetype": "text/x-python",
   "name": "python",
   "nbconvert_exporter": "python",
   "pygments_lexer": "ipython3",
   "version": "3.7.7"
  }
 },
 "nbformat": 4,
 "nbformat_minor": 4
}
