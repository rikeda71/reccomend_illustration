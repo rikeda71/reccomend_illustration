{
 "cells": [
  {
   "cell_type": "code",
   "execution_count": 49,
   "metadata": {},
   "outputs": [],
   "source": [
    "from typing import List\n",
    "\n",
    "import numpy as np\n",
    "import torch\n",
    "from IPython.display import Image\n",
    "from transformers.tokenization_bert_japanese import BertJapaneseTokenizer\n",
    "from transformers import BertModel\n",
    "from sklearn.metrics.pairwise import cosine_similarity"
   ]
  },
  {
   "cell_type": "code",
   "execution_count": 15,
   "metadata": {},
   "outputs": [],
   "source": [
    "# 日本語トークナイザ\n",
    "tokenizer = BertJapaneseTokenizer.from_pretrained('cl-tohoku/bert-base-japanese')\n",
    "# 事前学習済みBert\n",
    "model = BertModel.from_pretrained('cl-tohoku/bert-base-japanese')"
   ]
  },
  {
   "cell_type": "code",
   "execution_count": 4,
   "metadata": {},
   "outputs": [],
   "source": [
    "# configs\n",
    "CORPUS_PATH = 'corpus.txt'\n",
    "ILLUST_YA_CSV_PATH = '/Users/rikeda/Downloads/hackday/illust.csv'"
   ]
  },
  {
   "cell_type": "code",
   "execution_count": 34,
   "metadata": {},
   "outputs": [
    {
     "name": "stdout",
     "output_type": "stream",
     "text": [
      "[(tensor([[    2, 16682,     5,  2890,     5,  1480,    23,  1896,   758,    24,\n",
      "             3]]), 'https://4.bp.blogspot.com/-jN5C5Y4xN9s/V2zF20D4INI/AAAAAAAA8AQ/sVYu-ezC_3UKtX4n75AaHUqEskfQQnS7QCLcB/s150/money_character_strong_yen.png'), (tensor([[    2, 25654,  1624,     5,  4307,     3]]), 'https://2.bp.blogspot.com/-57P4j4ba84E/VyNdckfKDVI/AAAAAAAA6No/00EjX61RCQwiFfvQjglB7M55X2xsO65MQCLcB/s400/medicine_kaze.png'), (tensor([[    2, 11122,  2932,     5,  4307,     3]]), 'https://3.bp.blogspot.com/-D1ojODeU7lg/U0pS6kDirII/AAAAAAAAe_Y/LU00iN_kGs0/s400/rose_blue.png')]\n"
     ]
    }
   ],
   "source": [
    "# 試しにぐっちが集めたいらすとやの見出しを使ってみる\n",
    "import csv\n",
    "with open(ILLUST_YA_CSV_PATH, 'r') as f:\n",
    "    reader = csv.reader(f)\n",
    "    illusts = [(torch.tensor(tokenizer.batch_encode_plus([row[1]], pad_to_max_length=True, add_special_tokens=True)['input_ids']), row[2]) for row in reader]\n",
    "print(illusts[:3])"
   ]
  },
  {
   "cell_type": "code",
   "execution_count": 36,
   "metadata": {},
   "outputs": [
    {
     "data": {
      "text/plain": [
       "['[CLS]', 'お金', 'の', '単位', 'の', 'キャラクター', '(', '強い', '円', ')', '[SEP]']"
      ]
     },
     "execution_count": 36,
     "metadata": {},
     "output_type": "execute_result"
    }
   ],
   "source": [
    "# tokenizeの確認\n",
    "tokenizer.convert_ids_to_tokens(illusts[0][0][0])"
   ]
  },
  {
   "cell_type": "code",
   "execution_count": 45,
   "metadata": {},
   "outputs": [
    {
     "data": {
      "text/plain": [
       "(1, 768)"
      ]
     },
     "execution_count": 45,
     "metadata": {},
     "output_type": "execute_result"
    }
   ],
   "source": [
    "def get_bert_sentence_vec(model, input_ids: List[List[str]]):\n",
    "    outputs = model(input_ids)\n",
    "    last_hidden_states = outputs[0]  # 1つ目の要素が最終層の hidden state\n",
    "    return last_hidden_states[:, 0, :].detach().numpy()\n",
    "get_bert_sentence_vec(model, illusts[0][0]).shape"
   ]
  },
  {
   "cell_type": "code",
   "execution_count": 59,
   "metadata": {},
   "outputs": [],
   "source": [
    "sentence = tokenizer.batch_encode_plus([\"東京都内で25日、新型コロナウイルスの感染者が新たに４８人確認されたことがわかった。１日当たりの感染者は２４日（５５人）を下回ったが、直近１週間の平均は約３９人と高水準が続いている。\"])\n",
    "input_ids = torch.tensor(sentence['input_ids'])\n",
    "sentence_vec = get_bert_sentence_vec(model, input_ids)\n",
    "illusts_sentence_vec = np.array([get_bert_sentence_vec(model, illust[0])[0, :] for illust in illusts])"
   ]
  },
  {
   "cell_type": "code",
   "execution_count": 69,
   "metadata": {},
   "outputs": [
    {
     "name": "stdout",
     "output_type": "stream",
     "text": [
      "0.7013853\n",
      "['[CLS]', '一', '##昨', '##々', '##日', '[SEP]']\n"
     ]
    },
    {
     "data": {
      "text/html": [
       "<img src=\"//3.bp.blogspot.com/-E2QMYoAI5p4/UpGG06wLoyI/AAAAAAAAbAk/XeiGPA37BKk/s320/text_day1_sakiototoi.png\"/>"
      ],
      "text/plain": [
       "<IPython.core.display.Image object>"
      ]
     },
     "execution_count": 69,
     "metadata": {},
     "output_type": "execute_result"
    }
   ],
   "source": [
    "similarity = cosine_similarity(sentence_vec, illusts_sentence_vec)[0]\n",
    "top3_indices = np.argsort(similarity)[::-1][:3]\n",
    "\n",
    "print(similarity[top3_indices.tolist()[0]])\n",
    "print(tokenizer.convert_ids_to_tokens(illusts[top3_indices.tolist()[0]][0][0]))\n",
    "Image(url=illusts[top3_indices.tolist()[0]][1])"
   ]
  },
  {
   "cell_type": "code",
   "execution_count": 72,
   "metadata": {},
   "outputs": [
    {
     "name": "stdout",
     "output_type": "stream",
     "text": [
      "0.67197865\n",
      "['[CLS]', '家具', 'が', '倒れ', 'て', '窓', 'を', '割', '##る', 'イラスト', '(', '事故', ')', '[SEP]']\n"
     ]
    },
    {
     "data": {
      "text/html": [
       "<img src=\"//4.bp.blogspot.com/-x_t1knJIMMs/VaNgrAHNo0I/AAAAAAAAvkA/8F_ayHKm_hk/s400/jiko_jishin_kagu_tentou.png\"/>"
      ],
      "text/plain": [
       "<IPython.core.display.Image object>"
      ]
     },
     "execution_count": 72,
     "metadata": {},
     "output_type": "execute_result"
    }
   ],
   "source": [
    "print(similarity[top3_indices.tolist()[1]])\n",
    "print(tokenizer.convert_ids_to_tokens(illusts[top3_indices.tolist()[1]][0][0]))\n",
    "Image(url =  illusts[top3_indices.tolist()[1]][1])"
   ]
  },
  {
   "cell_type": "code",
   "execution_count": 73,
   "metadata": {},
   "outputs": [
    {
     "name": "stdout",
     "output_type": "stream",
     "text": [
      "0.6691485\n",
      "['[CLS]', '地域', 'を', 'また', '##い', 'だ', '感染', '拡大', 'の', 'イラスト', '(', '感染', '地域', 'から', ')', '[SEP]']\n"
     ]
    },
    {
     "data": {
      "text/html": [
       "<img src=\"https://1.bp.blogspot.com/-3kVQSMX_s9s/Xr33FJS1ijI/AAAAAAABY64/1ZbIcCcKPv0jYqLQE-wFR8WCJhOvJJA_gCNcBGAsYHQ/s400/virus_kansen_chiiki_idou1.png\"/>"
      ],
      "text/plain": [
       "<IPython.core.display.Image object>"
      ]
     },
     "execution_count": 73,
     "metadata": {},
     "output_type": "execute_result"
    }
   ],
   "source": [
    "print(similarity[top3_indices.tolist()[2]])\n",
    "print(tokenizer.convert_ids_to_tokens(illusts[top3_indices.tolist()[2]][0][0]))\n",
    "Image(url =  illusts[top3_indices.tolist()[2]][1])"
   ]
  },
  {
   "cell_type": "code",
   "execution_count": null,
   "metadata": {},
   "outputs": [],
   "source": []
  }
 ],
 "metadata": {
  "kernelspec": {
   "display_name": "Python 3",
   "language": "python",
   "name": "python3"
  },
  "language_info": {
   "codemirror_mode": {
    "name": "ipython",
    "version": 3
   },
   "file_extension": ".py",
   "mimetype": "text/x-python",
   "name": "python",
   "nbconvert_exporter": "python",
   "pygments_lexer": "ipython3",
   "version": "3.7.7"
  }
 },
 "nbformat": 4,
 "nbformat_minor": 4
}
