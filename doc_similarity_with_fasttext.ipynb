{
 "cells": [
  {
   "cell_type": "markdown",
   "metadata": {},
   "source": [
    "# 分散表現による文書類似度の推定\n",
    "参考：https://qiita.com/sonoisa/items/775ac4c7871ced6ed4c3"
   ]
  },
  {
   "cell_type": "code",
   "execution_count": 5,
   "metadata": {},
   "outputs": [],
   "source": [
    "import os\n",
    "from typing import List\n",
    "\n",
    "import MeCab\n",
    "import fasttext\n",
    "import fasttext.util\n",
    "import numpy as np\n",
    "from IPython.display import Image\n",
    "from sklearn.metrics.pairwise import cosine_similarity"
   ]
  },
  {
   "cell_type": "markdown",
   "metadata": {},
   "source": [
    "## Configs"
   ]
  },
  {
   "cell_type": "code",
   "execution_count": 6,
   "metadata": {},
   "outputs": [],
   "source": [
    "FASTTEXT_VEC = 'cc.ja.300.bin'\n",
    "m = MeCab.Tagger(\"-Owakati\")  # TODO:わかち書きしているので、品詞指定で特徴語を抽出するようにする必要がありそう\n",
    "ILLUST_YA_CSV_PATH = '/Users/rikeda/Downloads/hackday/illust.csv'"
   ]
  },
  {
   "cell_type": "markdown",
   "metadata": {},
   "source": [
    "### いらすとやの見出しの格納"
   ]
  },
  {
   "cell_type": "code",
   "execution_count": 7,
   "metadata": {},
   "outputs": [
    {
     "name": "stdout",
     "output_type": "stream",
     "text": [
      "[('お金 の 単位 の キャラクター （ 強い 円 ） \\n', 'https://4.bp.blogspot.com/-jN5C5Y4xN9s/V2zF20D4INI/AAAAAAAA8AQ/sVYu-ezC_3UKtX4n75AaHUqEskfQQnS7QCLcB/s150/money_character_strong_yen.png'), ('風邪 薬 の イラスト \\n', 'https://2.bp.blogspot.com/-57P4j4ba84E/VyNdckfKDVI/AAAAAAAA6No/00EjX61RCQwiFfvQjglB7M55X2xsO65MQCLcB/s400/medicine_kaze.png'), ('青い バラ の イラスト \\n', 'https://3.bp.blogspot.com/-D1ojODeU7lg/U0pS6kDirII/AAAAAAAAe_Y/LU00iN_kGs0/s400/rose_blue.png')]\n"
     ]
    }
   ],
   "source": [
    "# 試しにぐっちが集めたいらすとやの見出しを使ってみる\n",
    "import csv\n",
    "with open(ILLUST_YA_CSV_PATH, 'r') as f:\n",
    "    reader = csv.reader(f)\n",
    "    illusts = [(m.parse(row[1]), row[2]) for row in reader]\n",
    "print(illusts[:3])"
   ]
  },
  {
   "cell_type": "markdown",
   "metadata": {},
   "source": [
    "### fasttextモデルのロード"
   ]
  },
  {
   "cell_type": "code",
   "execution_count": 8,
   "metadata": {},
   "outputs": [
    {
     "name": "stderr",
     "output_type": "stream",
     "text": [
      "Warning : `load_model` does not return WordVectorModel or SupervisedModel any more, but a `FastText` object which is very similar.\n"
     ]
    },
    {
     "data": {
      "text/plain": [
       "300"
      ]
     },
     "execution_count": 8,
     "metadata": {},
     "output_type": "execute_result"
    }
   ],
   "source": [
    "fasttext.util.download_model('ja', if_exists='ignore')  # 学習済みモデルがなければdownload\n",
    "ft = fasttext.load_model(FASTTEXT_VEC)\n",
    "ft.get_dimension()"
   ]
  },
  {
   "cell_type": "code",
   "execution_count": 9,
   "metadata": {},
   "outputs": [
    {
     "data": {
      "text/plain": [
       "[(0.755213737487793, 'Goole'),\n",
       " (0.7355369329452515, 'Goolge'),\n",
       " (0.7275019288063049, 'グーグル')]"
      ]
     },
     "execution_count": 9,
     "metadata": {},
     "output_type": "execute_result"
    }
   ],
   "source": [
    "ft.get_nearest_neighbors('Google', k=3)"
   ]
  },
  {
   "cell_type": "code",
   "execution_count": 10,
   "metadata": {},
   "outputs": [],
   "source": [
    "# SWEM(Simple Word-Embedding based Models)\n",
    "# https://arxiv.org/abs/1805.09843v1\n",
    "\n",
    "def _get_word_vectors(words: List[str]):\n",
    "    return np.array([ft.get_word_vector(word) for word in words])\n",
    "\n",
    "def average_pooling(words: List[str]):\n",
    "    return np.mean(_get_word_vectors(words), axis=0)\n",
    "\n",
    "def max_pooling(words: List[str]):\n",
    "    return np.max(_get_word_vectors(words), axis=0)"
   ]
  },
  {
   "cell_type": "code",
   "execution_count": 22,
   "metadata": {},
   "outputs": [],
   "source": [
    "sentence = m.parse(\"東京都内で２５日、新型コロナウイルスの感染者が新たに４８人確認されたことがわかった。１日当たりの感染者は２４日（５５人）を下回ったが、直近１週間の平均は約３９人と高水準が続いている。\").replace(' \\n', '')\n",
    "a = np.array([max_pooling(sentence.split(' ')[:-1])])\n",
    "b = np.array([max_pooling(illust[0].split(' ')) for illust in illusts])  # いらすとやの見出しのベクトル集合\n",
    "similarity = cosine_similarity(a, b)[0]"
   ]
  },
  {
   "cell_type": "code",
   "execution_count": 23,
   "metadata": {},
   "outputs": [
    {
     "name": "stdout",
     "output_type": "stream",
     "text": [
      "0.8963355\n",
      "地域 を またい だ 感染 拡大 の イラスト （ 感染 地域 から ） \n",
      "\n"
     ]
    },
    {
     "data": {
      "text/html": [
       "<img src=\"https://1.bp.blogspot.com/-3kVQSMX_s9s/Xr33FJS1ijI/AAAAAAABY64/1ZbIcCcKPv0jYqLQE-wFR8WCJhOvJJA_gCNcBGAsYHQ/s400/virus_kansen_chiiki_idou1.png\"/>"
      ],
      "text/plain": [
       "<IPython.core.display.Image object>"
      ]
     },
     "execution_count": 23,
     "metadata": {},
     "output_type": "execute_result"
    }
   ],
   "source": [
    "top3_indices = np.argsort(similarity)[::-1][:3]\n",
    "\n",
    "print(similarity[top3_indices.tolist()[0]])\n",
    "print(illusts[top3_indices.tolist()[0]][0])\n",
    "Image(url =  illusts[top3_indices.tolist()[0]][1])"
   ]
  },
  {
   "cell_type": "code",
   "execution_count": 26,
   "metadata": {},
   "outputs": [
    {
     "name": "stdout",
     "output_type": "stream",
     "text": [
      "0.8937279\n",
      "スマート フォン で チャート を 見る 人 の イラスト （ 上昇 ） \n",
      "\n"
     ]
    },
    {
     "data": {
      "text/html": [
       "<img src=\"https://2.bp.blogspot.com/-uHJezbeQ1WM/WkR-JNXT-PI/AAAAAAABJWg/AuYTFUxbsqkIVlGtgXGiFoTV7RD98Wv6ACLcBGAs/s400/kabu_chart_smartphone_man_happy.png\"/>"
      ],
      "text/plain": [
       "<IPython.core.display.Image object>"
      ]
     },
     "execution_count": 26,
     "metadata": {},
     "output_type": "execute_result"
    }
   ],
   "source": [
    "print(similarity[top3_indices.tolist()[1]])\n",
    "print(illusts[top3_indices.tolist()[1]][0])\n",
    "Image(url =  illusts[top3_indices.tolist()[1]][1])"
   ]
  },
  {
   "cell_type": "code",
   "execution_count": 25,
   "metadata": {},
   "outputs": [
    {
     "name": "stdout",
     "output_type": "stream",
     "text": [
      "0.89311564\n",
      "「 感染 症 拡大 防止 に ご 協力 ください 」 の イラスト （ 会社 員 ） \n",
      "\n"
     ]
    },
    {
     "data": {
      "text/html": [
       "<img src=\"https://1.bp.blogspot.com/-RSGBDV1t-8Y/Xlc4r-10HTI/AAAAAAABXg0/VtiltQusewIJ5ljr5-omIR1xe_iBUB_bACNcBGAsYHQ/s300/message_kansensyou_business.png\"/>"
      ],
      "text/plain": [
       "<IPython.core.display.Image object>"
      ]
     },
     "execution_count": 25,
     "metadata": {},
     "output_type": "execute_result"
    }
   ],
   "source": [
    "print(similarity[top3_indices.tolist()[2]])\n",
    "print(illusts[top3_indices.tolist()[2]][0])\n",
    "Image(url =  illusts[top3_indices.tolist()[2]][1])"
   ]
  },
  {
   "cell_type": "code",
   "execution_count": 27,
   "metadata": {},
   "outputs": [
    {
     "name": "stdout",
     "output_type": "stream",
     "text": [
      "0.86407477\n",
      "時間 を 忘れ て しまっ た 人 の イラスト （ 男性 ） \n",
      "\n"
     ]
    },
    {
     "data": {
      "text/html": [
       "<img src=\"https://4.bp.blogspot.com/-idHCpVX5qL0/WzC9noN0yjI/AAAAAAABM6Y/TjBI4Harfus6YzTY66t4UR2tFNBdAKzzgCLcBGAs/s400/jikan_tobu_man.png\"/>"
      ],
      "text/plain": [
       "<IPython.core.display.Image object>"
      ]
     },
     "execution_count": 27,
     "metadata": {},
     "output_type": "execute_result"
    }
   ],
   "source": [
    "sentence = \"東京都内で２５日、新型コロナウイルスの感染者が新たに４８人確認されたことがわかった。\"\n",
    "a = np.array([average_pooling(m.parse(sentence).split(' ')[:-1])])\n",
    "b = np.array([average_pooling(illust[0].split(' ')) for illust in illusts])  # いらすとやの見出しのベクトル集合\n",
    "similarity = cosine_similarity(a, b)[0]\n",
    "top3_indices = np.argsort(similarity)[::-1][:3]\n",
    "\n",
    "print(similarity[top3_indices.tolist()[0]])\n",
    "print(illusts[top3_indices.tolist()[0]][0])\n",
    "Image(url =  illusts[top3_indices.tolist()[0]][1])"
   ]
  },
  {
   "cell_type": "code",
   "execution_count": null,
   "metadata": {},
   "outputs": [],
   "source": []
  }
 ],
 "metadata": {
  "kernelspec": {
   "display_name": "Python 3",
   "language": "python",
   "name": "python3"
  },
  "language_info": {
   "codemirror_mode": {
    "name": "ipython",
    "version": 3
   },
   "file_extension": ".py",
   "mimetype": "text/x-python",
   "name": "python",
   "nbconvert_exporter": "python",
   "pygments_lexer": "ipython3",
   "version": "3.7.7"
  }
 },
 "nbformat": 4,
 "nbformat_minor": 4
}
